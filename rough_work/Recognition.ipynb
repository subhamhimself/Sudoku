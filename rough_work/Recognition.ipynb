{
 "cells": [
  {
   "cell_type": "code",
   "execution_count": 68,
   "metadata": {},
   "outputs": [],
   "source": [
    "import matplotlib\n",
    "import matplotlib.pyplot as plt\n",
    "import pandas as pd\n",
    "import keras\n",
    "import numpy as np\n",
    "import random\n",
    "import cv2\n",
    "def show(a):\n",
    "    a = a.reshape(28, 28)\n",
    "    plt.imshow(a, cmap=matplotlib.cm.binary, interpolation='nearest')\n",
    "    return plt.axis('off')\n"
   ]
  },
  {
   "cell_type": "code",
   "execution_count": 69,
   "metadata": {},
   "outputs": [],
   "source": [
    "# data = pd.read_csv('small.csv')\n",
    "data = pd.read_csv('TMNIST_Data.csv')\n",
    "\n",
    "x = data.drop(columns= {'names', 'labels'})\n",
    "y =  data[['labels']]\n",
    "size = int(data.shape[0]*0.8)\n",
    "x = x.to_numpy()\n",
    "y = y.to_numpy()\n",
    "x = x/255\n",
    "# x[]\n",
    "# x = x*2\n",
    "\n",
    "# box = x\n",
    "# box -= box*(box<=50)\n",
    "# box += (255-box)*(box>50)\n",
    "# x= box\n",
    "\n",
    "x_train = x[:size]\n",
    "y_train = y[:size]\n",
    "x_test = x[size:]\n",
    "y_test = y[size:]\n",
    "x_train = x\n",
    "y_train = y\n",
    "x_test = x\n",
    "y_test = y\n",
    "\n",
    "# x_train[0].shape\n",
    "# type(x_train)\n",
    "# x.shape"
   ]
  },
  {
   "cell_type": "code",
   "execution_count": 70,
   "metadata": {},
   "outputs": [
    {
     "name": "stdout",
     "output_type": "stream",
     "text": [
      "Epoch 1/20\n",
      "270/270 [==============================] - 1s 2ms/step - loss: 1.0284 - accuracy: 0.8075\n",
      "Epoch 2/20\n",
      "270/270 [==============================] - 0s 2ms/step - loss: 0.3591 - accuracy: 0.9215\n",
      "Epoch 3/20\n",
      "270/270 [==============================] - 0s 2ms/step - loss: 0.2745 - accuracy: 0.9342\n",
      "Epoch 4/20\n",
      "270/270 [==============================] - 0s 2ms/step - loss: 0.2351 - accuracy: 0.9427\n",
      "Epoch 5/20\n",
      "270/270 [==============================] - 0s 2ms/step - loss: 0.2089 - accuracy: 0.9482\n",
      "Epoch 6/20\n",
      "270/270 [==============================] - 0s 2ms/step - loss: 0.1910 - accuracy: 0.9538\n",
      "Epoch 7/20\n",
      "270/270 [==============================] - 0s 2ms/step - loss: 0.1771 - accuracy: 0.9563\n",
      "Epoch 8/20\n",
      "270/270 [==============================] - 0s 2ms/step - loss: 0.1655 - accuracy: 0.9592\n",
      "Epoch 9/20\n",
      "270/270 [==============================] - 0s 2ms/step - loss: 0.1569 - accuracy: 0.9607\n",
      "Epoch 10/20\n",
      "270/270 [==============================] - 0s 2ms/step - loss: 0.1484 - accuracy: 0.9637\n",
      "Epoch 11/20\n",
      "270/270 [==============================] - 0s 2ms/step - loss: 0.1426 - accuracy: 0.9637\n",
      "Epoch 12/20\n",
      "270/270 [==============================] - 0s 2ms/step - loss: 0.1365 - accuracy: 0.9663\n",
      "Epoch 13/20\n",
      "270/270 [==============================] - 0s 2ms/step - loss: 0.1310 - accuracy: 0.9678\n",
      "Epoch 14/20\n",
      "270/270 [==============================] - 0s 2ms/step - loss: 0.1259 - accuracy: 0.9688\n",
      "Epoch 15/20\n",
      "270/270 [==============================] - 0s 2ms/step - loss: 0.1226 - accuracy: 0.9700\n",
      "Epoch 16/20\n",
      "270/270 [==============================] - 0s 2ms/step - loss: 0.1182 - accuracy: 0.9701\n",
      "Epoch 17/20\n",
      "270/270 [==============================] - 0s 2ms/step - loss: 0.1137 - accuracy: 0.9715\n",
      "Epoch 18/20\n",
      "270/270 [==============================] - 0s 2ms/step - loss: 0.1114 - accuracy: 0.9735\n",
      "Epoch 19/20\n",
      "270/270 [==============================] - 0s 2ms/step - loss: 0.1071 - accuracy: 0.9739\n",
      "Epoch 20/20\n",
      "270/270 [==============================] - 0s 2ms/step - loss: 0.1043 - accuracy: 0.9743\n",
      "270/270 [==============================] - 0s 1ms/step - loss: 0.1003 - accuracy: 0.9756\n",
      "270/270 [==============================] - 0s 1ms/step\n"
     ]
    }
   ],
   "source": [
    "model = keras.Sequential([keras.layers.Dense(100,input_shape = (x_train[0].shape), activation='softmax')])\n",
    "\n",
    "model.compile(optimizer='adam',\n",
    "              loss='sparse_categorical_crossentropy', metrics=['accuracy'])\n",
    "model.fit(x_train, y_train, epochs=20)\n",
    "model.evaluate(x_test, y_test)\n",
    "t=model.predict(x_test)\n",
    "p=0\n"
   ]
  },
  {
   "cell_type": "code",
   "execution_count": 87,
   "metadata": {},
   "outputs": [
    {
     "name": "stdout",
     "output_type": "stream",
     "text": [
      "(-0.5, 27.5, 27.5, -0.5)\n",
      "0.9985784\n",
      "0\n",
      "Stylish-Regular\n"
     ]
    },
    {
     "data": {
      "image/png": "[encoded data removed]",
      "text/plain": [
       "<Figure size 432x288 with 1 Axes>"
      ]
     },
     "metadata": {
      "needs_background": "light"
     },
     "output_type": "display_data"
    }
   ],
   "source": [
    "\n",
    "\n",
    "print(show(x_test[p]))\n",
    "# print(x_test[p])\n",
    "# print(t[p])\n",
    "print(np.max(t[p]))\n",
    "print(np.argmax(t[p]))\n",
    "print(data['names'][p])\n",
    "p+=1"
   ]
  },
  {
   "cell_type": "code",
   "execution_count": 72,
   "metadata": {},
   "outputs": [
    {
     "name": "stdout",
     "output_type": "stream",
     "text": [
      "270/270 [==============================] - 0s 1ms/step - loss: 0.1003 - accuracy: 0.9756\n"
     ]
    },
    {
     "data": {
      "text/plain": [
       "[0.10027264803647995, 0.9755560755729675]"
      ]
     },
     "execution_count": 72,
     "metadata": {},
     "output_type": "execute_result"
    }
   ],
   "source": [
    "model.save('saved.h5')\n",
    "loaded_model = keras.models.load_model('saved.h5')\n",
    "loaded_model.compile(optimizer='adam',loss='sparse_categorical_crossentropy',metrics=['accuracy'])\n",
    "loaded_model.evaluate(x_test,y_test)\n"
   ]
  }
 ],
 "metadata": {
  "kernelspec": {
   "display_name": "Python 3.10.5 64-bit (windows store)",
   "language": "python",
   "name": "python3"
  },
  "language_info": {
   "codemirror_mode": {
    "name": "ipython",
    "version": 3
   },
   "file_extension": ".py",
   "mimetype": "text/x-python",
   "name": "python",
   "nbconvert_exporter": "python",
   "pygments_lexer": "ipython3",
   "version": "3.10.5"
  },
  "orig_nbformat": 4,
  "vscode": {
   "interpreter": {
    "hash": "18c3d5ca2dc1856c7af870e887f8662d9aac286d73df3348b3b2a227f4beee47"
   }
  }
 },
 "nbformat": 4,
 "nbformat_minor": 2
}
