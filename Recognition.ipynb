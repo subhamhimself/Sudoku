{
 "cells": [
  {
   "cell_type": "code",
   "execution_count": 163,
   "metadata": {},
   "outputs": [],
   "source": [
    "import matplotlib\n",
    "import matplotlib.pyplot as plt\n",
    "import pandas as pd\n",
    "import keras\n",
    "import numpy as np\n",
    "import random\n",
    "def show(a):\n",
    "    a = a.reshape(28, 28)\n",
    "    plt.imshow(a, cmap=matplotlib.cm.binary, interpolation='nearest')\n",
    "    return plt.axis('off')\n"
   ]
  },
  {
   "cell_type": "code",
   "execution_count": 164,
   "metadata": {},
   "outputs": [],
   "source": [
    "# data = pd.read_csv('small.csv')\n",
    "data = pd.read_csv('TMNIST_Data.csv')\n",
    "\n",
    "x = data.drop(columns= {'names', 'labels'})\n",
    "y =  data[['labels']]\n",
    "size = int(data.shape[0]*0.8)\n",
    "x = x.to_numpy()\n",
    "y = y.to_numpy()\n",
    "\n",
    "x_train = x[:size]\n",
    "y_train = y[:size]\n",
    "x_test = x[size:]\n",
    "y_test = y[size:]\n",
    "x_train = x\n",
    "y_train = y\n",
    "x_test = x\n",
    "y_test = y"
   ]
  },
  {
   "cell_type": "code",
   "execution_count": 165,
   "metadata": {},
   "outputs": [
    {
     "name": "stdout",
     "output_type": "stream",
     "text": [
      "Epoch 1/20\n",
      "770/770 [==============================] - 1s 1ms/step - loss: 7.2198 - accuracy: 0.8976\n",
      "Epoch 2/20\n",
      "770/770 [==============================] - 1s 1ms/step - loss: 1.8526 - accuracy: 0.9609\n",
      "Epoch 3/20\n",
      "770/770 [==============================] - 1s 1ms/step - loss: 1.5216 - accuracy: 0.9680\n",
      "Epoch 4/20\n",
      "770/770 [==============================] - 1s 1ms/step - loss: 1.5349 - accuracy: 0.9702\n",
      "Epoch 5/20\n",
      "770/770 [==============================] - 1s 1ms/step - loss: 1.3106 - accuracy: 0.9737\n",
      "Epoch 6/20\n",
      "770/770 [==============================] - 1s 1ms/step - loss: 1.2797 - accuracy: 0.9745\n",
      "Epoch 7/20\n",
      "770/770 [==============================] - 1s 1ms/step - loss: 1.2259 - accuracy: 0.9757\n",
      "Epoch 8/20\n",
      "770/770 [==============================] - 1s 1ms/step - loss: 1.1953 - accuracy: 0.9778\n",
      "Epoch 9/20\n",
      "770/770 [==============================] - 1s 1ms/step - loss: 1.2194 - accuracy: 0.9778\n",
      "Epoch 10/20\n",
      "770/770 [==============================] - 1s 1ms/step - loss: 1.1555 - accuracy: 0.9789\n",
      "Epoch 11/20\n",
      "770/770 [==============================] - 1s 1ms/step - loss: 0.9302 - accuracy: 0.9821\n",
      "Epoch 12/20\n",
      "770/770 [==============================] - 1s 1ms/step - loss: 0.8961 - accuracy: 0.9825\n",
      "Epoch 13/20\n",
      "770/770 [==============================] - 1s 1ms/step - loss: 0.9985 - accuracy: 0.9808\n",
      "Epoch 14/20\n",
      "770/770 [==============================] - 1s 1ms/step - loss: 0.9901 - accuracy: 0.9828\n",
      "Epoch 15/20\n",
      "770/770 [==============================] - 1s 1ms/step - loss: 0.8757 - accuracy: 0.9835\n",
      "Epoch 16/20\n",
      "770/770 [==============================] - 1s 1ms/step - loss: 0.8778 - accuracy: 0.9840\n",
      "Epoch 17/20\n",
      "770/770 [==============================] - 1s 1ms/step - loss: 0.9234 - accuracy: 0.9835\n",
      "Epoch 18/20\n",
      "770/770 [==============================] - 1s 1ms/step - loss: 0.8017 - accuracy: 0.9852\n",
      "Epoch 19/20\n",
      "770/770 [==============================] - 1s 1ms/step - loss: 0.8391 - accuracy: 0.9849\n",
      "Epoch 20/20\n",
      "770/770 [==============================] - 1s 1ms/step - loss: 0.7924 - accuracy: 0.9856\n"
     ]
    },
    {
     "data": {
      "text/plain": [
       "<keras.callbacks.History at 0x13fd700f730>"
      ]
     },
     "execution_count": 165,
     "metadata": {},
     "output_type": "execute_result"
    }
   ],
   "source": [
    "model = keras.Sequential([keras.layers.Dense(10,input_shape = (x_train[0].shape), activation='softmax')])\n",
    "model.compile(optimizer='adam',loss='sparse_categorical_crossentropy',metrics=['accuracy'])\n",
    "model.fit(x_train, y_train, epochs=20)"
   ]
  },
  {
   "cell_type": "code",
   "execution_count": 166,
   "metadata": {},
   "outputs": [
    {
     "name": "stdout",
     "output_type": "stream",
     "text": [
      "770/770 [==============================] - 1s 964us/step - loss: 0.6089 - accuracy: 0.9875\n",
      "770/770 [==============================] - 1s 810us/step\n"
     ]
    }
   ],
   "source": [
    "model.evaluate(x_test,y_test)\n",
    "tt = model.predict(x_test)"
   ]
  },
  {
   "cell_type": "code",
   "execution_count": 167,
   "metadata": {},
   "outputs": [],
   "source": [
    "# i=0\n",
    "# while(i<25000):\n",
    "#     p=i\n",
    "#     i+=1\n",
    "#     if(y_test[p][0]!=np.argmax(tt[p]) or np.max(tt[p])<0.50):\n",
    "#         print(np.argmax(tt[p]))\n",
    "#         print(y_test[p][0])\n",
    "#         print(np.max(tt[p]))\n",
    "#         print(tt[p])\n",
    "#         print(p)\n",
    "#         print(show(x_test[p]))\n",
    "#         print(data['names'][p])\n",
    "\n",
    "#         break\n",
    "# a.sort()\n",
    "# a\n",
    "# for i in a:\n",
    "#     print(i)\n",
    "\n"
   ]
  },
  {
   "cell_type": "code",
   "execution_count": 168,
   "metadata": {},
   "outputs": [],
   "source": [
    "model.save('saved.h5')"
   ]
  },
  {
   "cell_type": "code",
   "execution_count": 169,
   "metadata": {},
   "outputs": [
    {
     "name": "stdout",
     "output_type": "stream",
     "text": [
      "770/770 [==============================] - 1s 943us/step - loss: 0.6089 - accuracy: 0.9875\n"
     ]
    },
    {
     "data": {
      "text/plain": [
       "[0.608911395072937, 0.9874954223632812]"
      ]
     },
     "execution_count": 169,
     "metadata": {},
     "output_type": "execute_result"
    }
   ],
   "source": [
    "loaded_model = keras.models.load_model('saved.h5')\n",
    "loaded_model.compile(optimizer='adam',loss='sparse_categorical_crossentropy',metrics=['accuracy'])\n",
    "loaded_model.evaluate(x_test,y_test)"
   ]
  }
 ],
 "metadata": {
  "kernelspec": {
   "display_name": "Python 3.10.5 64-bit (windows store)",
   "language": "python",
   "name": "python3"
  },
  "language_info": {
   "codemirror_mode": {
    "name": "ipython",
    "version": 3
   },
   "file_extension": ".py",
   "mimetype": "text/x-python",
   "name": "python",
   "nbconvert_exporter": "python",
   "pygments_lexer": "ipython3",
   "version": "3.10.5"
  },
  "orig_nbformat": 4,
  "vscode": {
   "interpreter": {
    "hash": "18c3d5ca2dc1856c7af870e887f8662d9aac286d73df3348b3b2a227f4beee47"
   }
  }
 },
 "nbformat": 4,
 "nbformat_minor": 2
}
